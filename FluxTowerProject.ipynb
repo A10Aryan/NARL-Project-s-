{
 "cells": [
  {
   "cell_type": "code",
   "execution_count": 15,
   "metadata": {},
   "outputs": [],
   "source": [
    "import numpy as np\n",
    "import pandas as pd\n",
    "import plotly.express as px\n",
    "from datetime import datetime"
   ]
  },
  {
   "cell_type": "code",
   "execution_count": 16,
   "metadata": {},
   "outputs": [
    {
     "name": "stdout",
     "output_type": "stream",
     "text": [
      "(1296001, 21)\n",
      "TIMESTAMP           datetime64[ns]\n",
      "RECORD                       int64\n",
      "Ux                         float64\n",
      "Uy                         float64\n",
      "Uz                         float64\n",
      "co2                        float64\n",
      "h2o                        float64\n",
      "Ts                         float64\n",
      "press                      float64\n",
      "diag_csat                    int64\n",
      "t_hmp                      float64\n",
      "rh_hmp                     float64\n",
      "e_hmp                      float64\n",
      "fw                         float64\n",
      "short_up                   float64\n",
      "short_dn                   float64\n",
      "long_up                    float64\n",
      "long_dn                    float64\n",
      "cnr4_T_K                   float64\n",
      "long_up_corr_Avg           float64\n",
      "long_dn_corr_Avg           float64\n",
      "dtype: object\n",
      "<class 'pandas.core.indexes.datetimes.DatetimeIndex'>\n"
     ]
    }
   ],
   "source": [
    "data = pd.read_csv(\"flux_tower_15days.csv\", header = 0, low_memory = False)\n",
    "skiprows = [0, 2, 3],\n",
    "print(data.shape)\n",
    "data['TIMESTAMP'] = pd.to_datetime(data['TIMESTAMP'], format = '%Y-%m-%d %H:%M:%S')\n",
    "print(data.dtypes)\n",
    "data.set_index('TIMESTAMP', inplace = True, drop = False)\n",
    "print(type(data.index))"
   ]
  },
  {
   "cell_type": "code",
   "execution_count": 17,
   "metadata": {},
   "outputs": [],
   "source": [
    "day_mask = (data.index.time >= datetime.strptime('08:30', '%H:%M').time()) & \\\n",
    "           (data.index.time <= datetime.strptime('17:30', '%H:%M').time())\n",
    "\n",
    "night_mask = (data.index.time >= datetime.strptime('21:30', '%H:%M').time()) | \\\n",
    "           (data.index.time <= datetime.strptime('05:30', '%H:%M').time())\n",
    "\n",
    "day_data = data[day_mask]\n",
    "night_data = data[night_mask]"
   ]
  },
  {
   "cell_type": "code",
   "execution_count": 18,
   "metadata": {},
   "outputs": [
    {
     "name": "stdout",
     "output_type": "stream",
     "text": [
      "<class 'pandas.core.indexes.datetimes.DatetimeIndex'>\n"
     ]
    }
   ],
   "source": [
    "def parse_datetime(timestamp):\n",
    "    try:\n",
    "        return pd.to_datetime(timestamp, format = '%Y-%m-%d %H:%M:%S')\n",
    "    except ValueError:\n",
    "        return pd.to_datetime(timestamp, format = '%Y-%m-%d %H:%M:%S.%f')\n",
    "data['TIMESTAMP'] = data['TIMESTAMP'].apply(parse_datetime)\n",
    "print(type(data.index))"
   ]
  },
  {
   "cell_type": "code",
   "execution_count": 19,
   "metadata": {},
   "outputs": [],
   "source": [
    "def calculate_and_plot(data, title_suffix):\n",
    "    data['10min'] = data.index.floor('10T')\n",
    "\n",
    "    grouped_data_u = data.groupby('10min').mean().rename(columns = {'Ux': 'Ux_avg'})\n",
    "    aligned_avg_data_u = grouped_data_u.reindex(data.index, method = 'ffill')\n",
    "\n",
    "    fig_U_mean = px.line(x = data['TIMESTAMP'][:86400], y = aligned_avg_data_u['Ux_avg'][:86400], title = f'U Mean {title_suffix}')\n",
    "    fig_U_mean.show()\n",
    "\n",
    "    fluctuation_u = data['Ux'] - aligned_avg_data_u['Ux_avg']\n",
    "    fig_U = px.line(x=data['TIMESTAMP'][:86400], y = fluctuation_u[:86400], title = f'U Fluctuation {title_suffix}')\n",
    "    fig_U.show()\n",
    "\n",
    "    grouped_data_v = data.groupby('10min').mean().rename(columns = {'Uy': 'Uy_avg'})\n",
    "    aligned_avg_data_v = grouped_data_v.reindex(data.index, method = 'ffill')\n",
    "\n",
    "    fig_V_mean = px.line(x = data['TIMESTAMP'][:86400], y = aligned_avg_data_v['Uy_avg'][:86400], title = f'V Mean {title_suffix}')\n",
    "    fig_V_mean.show()\n",
    "\n",
    "    fluctuation_v = data['Uy'] - aligned_avg_data_v['Uy_avg']\n",
    "    fig_V = px.line(x = data['TIMESTAMP'][:86400], y = fluctuation_v[:86400], title = f'V Fluctuation {title_suffix}')\n",
    "    fig_V.show()\n",
    "\n",
    "    grouped_data_w = data.groupby('10min').mean().rename(columns = {'Uz': 'Uz_avg'})\n",
    "    aligned_avg_data_w = grouped_data_w.reindex(data.index, method = 'ffill')\n",
    "    fig_W_mean = px.line(x = data['TIMESTAMP'][:86400], y = aligned_avg_data_w['Uz_avg'][:86400], title = f'W Mean {title_suffix}')\n",
    "    fig_W_mean.show()\n",
    "\n",
    "    fluctuation_w = data['Uz'] - aligned_avg_data_w['Uz_avg']\n",
    "    fig_W = px.line(x = data['TIMESTAMP'][:86400], y = fluctuation_w[:86400], title = f'W Fluctuation {title_suffix}')\n",
    "    fig_W.show()"
   ]
  },
  {
   "cell_type": "code",
   "execution_count": null,
   "metadata": {},
   "outputs": [],
   "source": [
    "# Calculate and plot for day data\n",
    "calculate_and_plot(day_data, 'Day')\n",
    "\n",
    "# Calculate and plot for night data\n",
    "calculate_and_plot(night_data, 'Night')"
   ]
  },
  {
   "cell_type": "code",
   "execution_count": 9,
   "metadata": {},
   "outputs": [],
   "source": [
    "# data['10min'] = data.index.floor('10T')\n",
    "\n",
    "# grouped_data_u = data.groupby('10min').mean().rename(columns = {'Ux': 'Ux_avg'})\n",
    "# aligned_avg_data_u = grouped_data_u.reindex(data.index, method = 'ffill')\n",
    "\n",
    "# fig_U_mean = px.line(x=data['TIMESTAMP'][:86400],y=aligned_avg_data_u['Ux_avg'][:86400])\n",
    "# fig_U_mean.show()\n",
    "\n",
    "# fluctuation_u = data['Ux'] - aligned_avg_data_u['Ux_avg']\n",
    "# fig_U = px.line(x=data['TIMESTAMP'][:86400],y=fluctuation_u[:86400])\n",
    "# fig_U.show()\n",
    "\n",
    "# grouped_data_v = data.groupby('10min').mean().rename(columns = {'Uy': 'Uy_avg'})\n",
    "# aligned_avg_data_v = grouped_data_v.reindex(data.index, method = 'ffill')\n",
    "\n",
    "# fig_V_mean = px.line(x=data['TIMESTAMP'][:86400],y=aligned_avg_data_v['Uy_avg'][:86400])\n",
    "# fig_V_mean.show()\n",
    "\n",
    "# fluctuation_v = data['Uy'] - aligned_avg_data_v['Uy_avg']\n",
    "# fig_V = px.line(x=data['TIMESTAMP'][:86400],y=fluctuation_v[:86400])\n",
    "# fig_V.show()\n",
    "\n",
    "# grouped_data_w = data.groupby('10min').mean().rename(columns = {'Uz': 'Uz_avg'})\n",
    "# aligned_avg_data_w = grouped_data_w.reindex(data.index, method = 'ffill')\n",
    "# fig_W_mean = px.line(x=data['TIMESTAMP'][:86400],y=aligned_avg_data_w['Uz_avg'][:86400])\n",
    "# fig_W_mean.show()\n",
    "\n",
    "# fluctuation_w = data['Uz'] - aligned_avg_data_w['Uz_avg']\n",
    "# fig_W = px.line(x=data['TIMESTAMP'][:86400],y=fluctuation_w[:86400])\n",
    "# fig_W.show()"
   ]
  },
  {
   "cell_type": "code",
   "execution_count": null,
   "metadata": {},
   "outputs": [],
   "source": []
  }
 ],
 "metadata": {
  "kernelspec": {
   "display_name": "quantds",
   "language": "python",
   "name": "python3"
  },
  "language_info": {
   "codemirror_mode": {
    "name": "ipython",
    "version": 3
   },
   "file_extension": ".py",
   "mimetype": "text/x-python",
   "name": "python",
   "nbconvert_exporter": "python",
   "pygments_lexer": "ipython3",
   "version": "3.11.7"
  }
 },
 "nbformat": 4,
 "nbformat_minor": 2
}
