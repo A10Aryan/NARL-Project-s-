{
 "cells": [
  {
   "cell_type": "code",
   "execution_count": null,
   "metadata": {},
   "outputs": [],
   "source": [
    "import numpy as np\n",
    "import pandas as pd\n",
    "import plotly.express as px\n",
    "import plotly.graph_objects as go\n",
    "from datetime import datetime, timedelta"
   ]
  },
  {
   "cell_type": "code",
   "execution_count": null,
   "metadata": {},
   "outputs": [],
   "source": [
    "def load_data(file_path):\n",
    "    data = pd.read_csv(file_path, header=0, low_memory=False)\n",
    "    data['TIMESTAMP'] = pd.to_datetime(data['TIMESTAMP'], format='%Y-%m-%d %H:%M:%S')\n",
    "    data.set_index('TIMESTAMP', inplace=True, drop=False)\n",
    "    return data"
   ]
  },
  {
   "cell_type": "code",
   "execution_count": null,
   "metadata": {},
   "outputs": [],
   "source": [
    "def parse_datetime(timestamp):\n",
    "    try:\n",
    "        return pd.to_datetime(timestamp, format='%Y-%m-%d %H:%M:%S')\n",
    "    except ValueError:\n",
    "        return pd.to_datetime(timestamp, format='%Y-%m-%d %H:%M:%S.%f')"
   ]
  },
  {
   "cell_type": "code",
   "execution_count": null,
   "metadata": {},
   "outputs": [],
   "source": [
    "def split_day_night(data):\n",
    "    day_mask = (data.index.time >= datetime.strptime('08:30', '%H:%M').time()) & \\\n",
    "               (data.index.time <= datetime.strptime('17:30', '%H:%M').time())\n",
    "    night_mask = (data.index.time >= datetime.strptime('21:30', '%H:%M').time()) | \\\n",
    "                 (data.index.time <= datetime.strptime('05:30', '%H:%M').time())\n",
    "    day_data = data[day_mask]\n",
    "    night_data = data[night_mask]\n",
    "    return day_data, night_data"
   ]
  },
  {
   "cell_type": "code",
   "execution_count": null,
   "metadata": {},
   "outputs": [],
   "source": [
    "def calculate_metrics(data):\n",
    "    data['10min'] = data.index.floor('10T')\n",
    "    grouped_data = data.groupby('10min').mean()\n",
    "    \n",
    "    aligned_avg_data_u = grouped_data['Ux'].reindex(data.index, method='ffill')\n",
    "    aligned_avg_data_v = grouped_data['Uy'].reindex(data.index, method='ffill')\n",
    "    aligned_avg_data_w = grouped_data['Uz'].reindex(data.index, method='ffill')\n",
    "    \n",
    "    # Calculate MKE\n",
    "    MKE = 0.5 * (aligned_avg_data_u**2 + aligned_avg_data_v**2 + aligned_avg_data_w**2)\n",
    "    \n",
    "    # Calculate fluctuations\n",
    "    fluctuation_u = data['Ux'] - aligned_avg_data_u\n",
    "    fluctuation_v = data['Uy'] - aligned_avg_data_v\n",
    "    fluctuation_w = data['Uz'] - aligned_avg_data_w\n",
    "    \n",
    "    # Calculate TKE\n",
    "    TKE = 0.5 * (fluctuation_u**2 + fluctuation_v**2 + fluctuation_w**2)\n",
    "    \n",
    "    # Calculate turbulence intensity\n",
    "    turbulence_intensity = TKE / MKE\n",
    "    \n",
    "    return MKE, TKE, turbulence_intensity, fluctuation_u, fluctuation_v, fluctuation_w"
   ]
  },
  {
   "cell_type": "code",
   "execution_count": null,
   "metadata": {},
   "outputs": [],
   "source": [
    "def calculate_wind_direction(Ux_avg, Uy_avg):\n",
    "    angle = np.arctan2(Uy_avg, Ux_avg)\n",
    "    angle_deg = np.degrees(angle)\n",
    "    angle_deg = (angle_deg + 360) % 360\n",
    "    return angle_deg"
   ]
  },
  {
   "cell_type": "code",
   "execution_count": null,
   "metadata": {},
   "outputs": [],
   "source": [
    "def wind_direction_for_time_range(data, start_time, end_time):\n",
    "    data['10min'] = data.index.floor('10T')\n",
    "    grouped_data = data.groupby('10min').mean()\n",
    "    wind_direction = calculate_wind_direction(grouped_data['Ux'], grouped_data['Uy'])\n",
    "    wind_direction_filtered = wind_direction[(wind_direction.index >= start_time) & (wind_direction.index <= end_time)]\n",
    "    return wind_direction_filtered\n"
   ]
  },
  {
   "cell_type": "code",
   "execution_count": null,
   "metadata": {},
   "outputs": [],
   "source": [
    "def plot_wind_direction(data, start_time, end_time):\n",
    "    wind_direction = wind_direction_for_time_range(data, start_time, end_time)\n",
    "    fig_wind_dir = px.scatter(x=wind_direction.index, y=wind_direction, title='Wind Direction', labels={'x': 'Time', 'y': 'Wind Direction (degrees)'})\n",
    "    fig_wind_dir.update_layout(title={'font': {'size': 24}}, xaxis={'title': {'font': {'size': 20}}}, yaxis={'title': {'font': {'size': 20}}}, font={'size': 16})\n",
    "    fig_wind_dir.show()"
   ]
  },
  {
   "cell_type": "code",
   "execution_count": null,
   "metadata": {},
   "outputs": [],
   "source": [
    "def plot_metrics(data, MKE, TKE, turbulence_intensity, fluctuation_u, fluctuation_v, fluctuation_w, title_suffix, start_timestamp, end_timestamp):\n",
    "    filtered_data = data[(data['TIMESTAMP'] >= start_timestamp) & (data['TIMESTAMP'] <= end_timestamp)]\n",
    "\n",
    "    fig_U = px.line(x=filtered_data['TIMESTAMP'], y=fluctuation_u[filtered_data.index], title=f'U Fluctuation {title_suffix}')\n",
    "    fig_U.show()\n",
    "\n",
    "    fig_V = px.line(x=filtered_data['TIMESTAMP'], y=fluctuation_v[filtered_data.index], title=f'V Fluctuation {title_suffix}')\n",
    "    fig_V.show()\n",
    "\n",
    "    fig_W = px.line(x=filtered_data['TIMESTAMP'], y=fluctuation_w[filtered_data.index], title=f'W Fluctuation {title_suffix}')\n",
    "    fig_W.show()\n",
    "\n",
    "    turbulence_intensity_filtered = turbulence_intensity[(turbulence_intensity.index >= start_timestamp) & (turbulence_intensity.index <= end_timestamp)]\n",
    "    fig_turbulence_intensity = px.line(x=turbulence_intensity_filtered.index, y=turbulence_intensity_filtered, title=f'Turbulence Intensity {title_suffix}')\n",
    "    fig_turbulence_intensity.show() "
   ]
  },
  {
   "cell_type": "code",
   "execution_count": null,
   "metadata": {},
   "outputs": [],
   "source": [
    "def plot_turbulence_vs_wind_direction(data, start_date, end_date):\n",
    "    wind_direction_all = []\n",
    "    turbulence_intensity_all = []\n",
    "\n",
    "    current_date = start_date\n",
    "    while current_date <= end_date:\n",
    "        next_date = current_date + timedelta(days=1)\n",
    "        start_timestamp = current_date + timedelta(hours=21, minutes=30)\n",
    "        end_timestamp = next_date + timedelta(hours=5, minutes=30)\n",
    "        \n",
    "        MKE, TKE, turbulence_intensity, _, _, _ = calculate_metrics(data)\n",
    "        \n",
    "        wind_direction = wind_direction_for_time_range(data, start_timestamp, end_timestamp)\n",
    "        \n",
    "        wind_direction_all.extend(wind_direction)\n",
    "        turbulence_intensity_all.extend(turbulence_intensity[(turbulence_intensity.index >= start_timestamp) & (turbulence_intensity.index <= end_timestamp)])\n",
    "        \n",
    "        current_date += timedelta(days=1)\n",
    "\n",
    "    fig_turbulence_vs_wind_dir = px.scatter(\n",
    "        x=wind_direction_all, \n",
    "        y=turbulence_intensity_all, \n",
    "        title='Turbulence Intensity vs Wind Direction for Multiple Nights', \n",
    "        labels={'x': 'Wind Direction (degrees)', 'y': 'Turbulence Intensity (TKE/MKE)'}\n",
    "    )\n",
    "    \n",
    "    fig_turbulence_vs_wind_dir.show()"
   ]
  },
  {
   "cell_type": "code",
   "execution_count": 35,
   "metadata": {},
   "outputs": [],
   "source": [
    "data = pd.read_csv(\"flux_tower_15days.csv\", header=0, low_memory=False)\n",
    "data['TIMESTAMP'] = data['TIMESTAMP'].apply(parse_datetime)\n",
    "data.set_index('TIMESTAMP', inplace=True, drop=False)\n",
    "\n",
    "# Calculate metrics\n",
    "MKE, TKE, turbulence_intensity, fluctuation_u, fluctuation_v, fluctuation_w = calculate_metrics(data)\n",
    "\n",
    "# Plot for a specific night\n",
    "start = pd.to_datetime('9 June 2015 21:30:00')\n",
    "end = pd.to_datetime('10 June 2015 5:30:00')\n",
    "filtered_data = data[(data.index >= start) & (data.index <= end)]\n",
    "plot_metrics(filtered_data, MKE, TKE, turbulence_intensity, fluctuation_u, fluctuation_v, fluctuation_w, 'Night of 9 June 2015', start, end)\n",
    "\n",
    "# Plot for multiple nights\n",
    "start_date = pd.to_datetime('1 June 2015')\n",
    "end_date = pd.to_datetime('15 June 2015')\n",
    "plot_turbulence_vs_wind_direction(data, start_date, end_date)"
   ]
  },
  {
   "cell_type": "code",
   "execution_count": null,
   "metadata": {},
   "outputs": [],
   "source": []
  },
  {
   "cell_type": "code",
   "execution_count": null,
   "metadata": {},
   "outputs": [],
   "source": []
  }
 ],
 "metadata": {
  "kernelspec": {
   "display_name": "Python 3 (Spyder)",
   "language": "python3",
   "name": "python3"
  },
  "language_info": {
   "codemirror_mode": {
    "name": "ipython",
    "version": 3
   },
   "file_extension": ".py",
   "mimetype": "text/x-python",
   "name": "python",
   "nbconvert_exporter": "python",
   "pygments_lexer": "ipython3",
   "version": "3.11.7"
  }
 },
 "nbformat": 4,
 "nbformat_minor": 4
}
