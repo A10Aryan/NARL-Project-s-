{
 "cells": [
  {
   "cell_type": "code",
   "execution_count": 1,
   "metadata": {},
   "outputs": [],
   "source": [
    "import numpy as np\n",
    "import pandas as pd\n",
    "import plotly.express as px\n",
    "from datetime import datetime"
   ]
  },
  {
   "cell_type": "code",
   "execution_count": 2,
   "metadata": {},
   "outputs": [
    {
     "ename": "FileNotFoundError",
     "evalue": "[Errno 2] No such file or directory: 'flux_tower_15days.csv'",
     "output_type": "error",
     "traceback": [
      "\u001b[0;31m---------------------------------------------------------------------------\u001b[0m",
      "\u001b[0;31mFileNotFoundError\u001b[0m                         Traceback (most recent call last)",
      "Cell \u001b[0;32mIn[2], line 1\u001b[0m\n\u001b[0;32m----> 1\u001b[0m data \u001b[38;5;241m=\u001b[39m pd\u001b[38;5;241m.\u001b[39mread_csv(\u001b[38;5;124m\"\u001b[39m\u001b[38;5;124mflux_tower_15days.csv\u001b[39m\u001b[38;5;124m\"\u001b[39m, header \u001b[38;5;241m=\u001b[39m \u001b[38;5;241m0\u001b[39m, low_memory \u001b[38;5;241m=\u001b[39m \u001b[38;5;28;01mFalse\u001b[39;00m)\n\u001b[1;32m      2\u001b[0m skiprows \u001b[38;5;241m=\u001b[39m [\u001b[38;5;241m0\u001b[39m, \u001b[38;5;241m2\u001b[39m, \u001b[38;5;241m3\u001b[39m],\n\u001b[1;32m      3\u001b[0m \u001b[38;5;28mprint\u001b[39m(data\u001b[38;5;241m.\u001b[39mshape)\n",
      "File \u001b[0;32m~/miniconda3/envs/quantds/lib/python3.11/site-packages/pandas/io/parsers/readers.py:948\u001b[0m, in \u001b[0;36mread_csv\u001b[0;34m(filepath_or_buffer, sep, delimiter, header, names, index_col, usecols, dtype, engine, converters, true_values, false_values, skipinitialspace, skiprows, skipfooter, nrows, na_values, keep_default_na, na_filter, verbose, skip_blank_lines, parse_dates, infer_datetime_format, keep_date_col, date_parser, date_format, dayfirst, cache_dates, iterator, chunksize, compression, thousands, decimal, lineterminator, quotechar, quoting, doublequote, escapechar, comment, encoding, encoding_errors, dialect, on_bad_lines, delim_whitespace, low_memory, memory_map, float_precision, storage_options, dtype_backend)\u001b[0m\n\u001b[1;32m    935\u001b[0m kwds_defaults \u001b[38;5;241m=\u001b[39m _refine_defaults_read(\n\u001b[1;32m    936\u001b[0m     dialect,\n\u001b[1;32m    937\u001b[0m     delimiter,\n\u001b[0;32m   (...)\u001b[0m\n\u001b[1;32m    944\u001b[0m     dtype_backend\u001b[38;5;241m=\u001b[39mdtype_backend,\n\u001b[1;32m    945\u001b[0m )\n\u001b[1;32m    946\u001b[0m kwds\u001b[38;5;241m.\u001b[39mupdate(kwds_defaults)\n\u001b[0;32m--> 948\u001b[0m \u001b[38;5;28;01mreturn\u001b[39;00m _read(filepath_or_buffer, kwds)\n",
      "File \u001b[0;32m~/miniconda3/envs/quantds/lib/python3.11/site-packages/pandas/io/parsers/readers.py:611\u001b[0m, in \u001b[0;36m_read\u001b[0;34m(filepath_or_buffer, kwds)\u001b[0m\n\u001b[1;32m    608\u001b[0m _validate_names(kwds\u001b[38;5;241m.\u001b[39mget(\u001b[38;5;124m\"\u001b[39m\u001b[38;5;124mnames\u001b[39m\u001b[38;5;124m\"\u001b[39m, \u001b[38;5;28;01mNone\u001b[39;00m))\n\u001b[1;32m    610\u001b[0m \u001b[38;5;66;03m# Create the parser.\u001b[39;00m\n\u001b[0;32m--> 611\u001b[0m parser \u001b[38;5;241m=\u001b[39m TextFileReader(filepath_or_buffer, \u001b[38;5;241m*\u001b[39m\u001b[38;5;241m*\u001b[39mkwds)\n\u001b[1;32m    613\u001b[0m \u001b[38;5;28;01mif\u001b[39;00m chunksize \u001b[38;5;129;01mor\u001b[39;00m iterator:\n\u001b[1;32m    614\u001b[0m     \u001b[38;5;28;01mreturn\u001b[39;00m parser\n",
      "File \u001b[0;32m~/miniconda3/envs/quantds/lib/python3.11/site-packages/pandas/io/parsers/readers.py:1448\u001b[0m, in \u001b[0;36mTextFileReader.__init__\u001b[0;34m(self, f, engine, **kwds)\u001b[0m\n\u001b[1;32m   1445\u001b[0m     \u001b[38;5;28mself\u001b[39m\u001b[38;5;241m.\u001b[39moptions[\u001b[38;5;124m\"\u001b[39m\u001b[38;5;124mhas_index_names\u001b[39m\u001b[38;5;124m\"\u001b[39m] \u001b[38;5;241m=\u001b[39m kwds[\u001b[38;5;124m\"\u001b[39m\u001b[38;5;124mhas_index_names\u001b[39m\u001b[38;5;124m\"\u001b[39m]\n\u001b[1;32m   1447\u001b[0m \u001b[38;5;28mself\u001b[39m\u001b[38;5;241m.\u001b[39mhandles: IOHandles \u001b[38;5;241m|\u001b[39m \u001b[38;5;28;01mNone\u001b[39;00m \u001b[38;5;241m=\u001b[39m \u001b[38;5;28;01mNone\u001b[39;00m\n\u001b[0;32m-> 1448\u001b[0m \u001b[38;5;28mself\u001b[39m\u001b[38;5;241m.\u001b[39m_engine \u001b[38;5;241m=\u001b[39m \u001b[38;5;28mself\u001b[39m\u001b[38;5;241m.\u001b[39m_make_engine(f, \u001b[38;5;28mself\u001b[39m\u001b[38;5;241m.\u001b[39mengine)\n",
      "File \u001b[0;32m~/miniconda3/envs/quantds/lib/python3.11/site-packages/pandas/io/parsers/readers.py:1705\u001b[0m, in \u001b[0;36mTextFileReader._make_engine\u001b[0;34m(self, f, engine)\u001b[0m\n\u001b[1;32m   1703\u001b[0m     \u001b[38;5;28;01mif\u001b[39;00m \u001b[38;5;124m\"\u001b[39m\u001b[38;5;124mb\u001b[39m\u001b[38;5;124m\"\u001b[39m \u001b[38;5;129;01mnot\u001b[39;00m \u001b[38;5;129;01min\u001b[39;00m mode:\n\u001b[1;32m   1704\u001b[0m         mode \u001b[38;5;241m+\u001b[39m\u001b[38;5;241m=\u001b[39m \u001b[38;5;124m\"\u001b[39m\u001b[38;5;124mb\u001b[39m\u001b[38;5;124m\"\u001b[39m\n\u001b[0;32m-> 1705\u001b[0m \u001b[38;5;28mself\u001b[39m\u001b[38;5;241m.\u001b[39mhandles \u001b[38;5;241m=\u001b[39m get_handle(\n\u001b[1;32m   1706\u001b[0m     f,\n\u001b[1;32m   1707\u001b[0m     mode,\n\u001b[1;32m   1708\u001b[0m     encoding\u001b[38;5;241m=\u001b[39m\u001b[38;5;28mself\u001b[39m\u001b[38;5;241m.\u001b[39moptions\u001b[38;5;241m.\u001b[39mget(\u001b[38;5;124m\"\u001b[39m\u001b[38;5;124mencoding\u001b[39m\u001b[38;5;124m\"\u001b[39m, \u001b[38;5;28;01mNone\u001b[39;00m),\n\u001b[1;32m   1709\u001b[0m     compression\u001b[38;5;241m=\u001b[39m\u001b[38;5;28mself\u001b[39m\u001b[38;5;241m.\u001b[39moptions\u001b[38;5;241m.\u001b[39mget(\u001b[38;5;124m\"\u001b[39m\u001b[38;5;124mcompression\u001b[39m\u001b[38;5;124m\"\u001b[39m, \u001b[38;5;28;01mNone\u001b[39;00m),\n\u001b[1;32m   1710\u001b[0m     memory_map\u001b[38;5;241m=\u001b[39m\u001b[38;5;28mself\u001b[39m\u001b[38;5;241m.\u001b[39moptions\u001b[38;5;241m.\u001b[39mget(\u001b[38;5;124m\"\u001b[39m\u001b[38;5;124mmemory_map\u001b[39m\u001b[38;5;124m\"\u001b[39m, \u001b[38;5;28;01mFalse\u001b[39;00m),\n\u001b[1;32m   1711\u001b[0m     is_text\u001b[38;5;241m=\u001b[39mis_text,\n\u001b[1;32m   1712\u001b[0m     errors\u001b[38;5;241m=\u001b[39m\u001b[38;5;28mself\u001b[39m\u001b[38;5;241m.\u001b[39moptions\u001b[38;5;241m.\u001b[39mget(\u001b[38;5;124m\"\u001b[39m\u001b[38;5;124mencoding_errors\u001b[39m\u001b[38;5;124m\"\u001b[39m, \u001b[38;5;124m\"\u001b[39m\u001b[38;5;124mstrict\u001b[39m\u001b[38;5;124m\"\u001b[39m),\n\u001b[1;32m   1713\u001b[0m     storage_options\u001b[38;5;241m=\u001b[39m\u001b[38;5;28mself\u001b[39m\u001b[38;5;241m.\u001b[39moptions\u001b[38;5;241m.\u001b[39mget(\u001b[38;5;124m\"\u001b[39m\u001b[38;5;124mstorage_options\u001b[39m\u001b[38;5;124m\"\u001b[39m, \u001b[38;5;28;01mNone\u001b[39;00m),\n\u001b[1;32m   1714\u001b[0m )\n\u001b[1;32m   1715\u001b[0m \u001b[38;5;28;01massert\u001b[39;00m \u001b[38;5;28mself\u001b[39m\u001b[38;5;241m.\u001b[39mhandles \u001b[38;5;129;01mis\u001b[39;00m \u001b[38;5;129;01mnot\u001b[39;00m \u001b[38;5;28;01mNone\u001b[39;00m\n\u001b[1;32m   1716\u001b[0m f \u001b[38;5;241m=\u001b[39m \u001b[38;5;28mself\u001b[39m\u001b[38;5;241m.\u001b[39mhandles\u001b[38;5;241m.\u001b[39mhandle\n",
      "File \u001b[0;32m~/miniconda3/envs/quantds/lib/python3.11/site-packages/pandas/io/common.py:863\u001b[0m, in \u001b[0;36mget_handle\u001b[0;34m(path_or_buf, mode, encoding, compression, memory_map, is_text, errors, storage_options)\u001b[0m\n\u001b[1;32m    858\u001b[0m \u001b[38;5;28;01melif\u001b[39;00m \u001b[38;5;28misinstance\u001b[39m(handle, \u001b[38;5;28mstr\u001b[39m):\n\u001b[1;32m    859\u001b[0m     \u001b[38;5;66;03m# Check whether the filename is to be opened in binary mode.\u001b[39;00m\n\u001b[1;32m    860\u001b[0m     \u001b[38;5;66;03m# Binary mode does not support 'encoding' and 'newline'.\u001b[39;00m\n\u001b[1;32m    861\u001b[0m     \u001b[38;5;28;01mif\u001b[39;00m ioargs\u001b[38;5;241m.\u001b[39mencoding \u001b[38;5;129;01mand\u001b[39;00m \u001b[38;5;124m\"\u001b[39m\u001b[38;5;124mb\u001b[39m\u001b[38;5;124m\"\u001b[39m \u001b[38;5;129;01mnot\u001b[39;00m \u001b[38;5;129;01min\u001b[39;00m ioargs\u001b[38;5;241m.\u001b[39mmode:\n\u001b[1;32m    862\u001b[0m         \u001b[38;5;66;03m# Encoding\u001b[39;00m\n\u001b[0;32m--> 863\u001b[0m         handle \u001b[38;5;241m=\u001b[39m \u001b[38;5;28mopen\u001b[39m(\n\u001b[1;32m    864\u001b[0m             handle,\n\u001b[1;32m    865\u001b[0m             ioargs\u001b[38;5;241m.\u001b[39mmode,\n\u001b[1;32m    866\u001b[0m             encoding\u001b[38;5;241m=\u001b[39mioargs\u001b[38;5;241m.\u001b[39mencoding,\n\u001b[1;32m    867\u001b[0m             errors\u001b[38;5;241m=\u001b[39merrors,\n\u001b[1;32m    868\u001b[0m             newline\u001b[38;5;241m=\u001b[39m\u001b[38;5;124m\"\u001b[39m\u001b[38;5;124m\"\u001b[39m,\n\u001b[1;32m    869\u001b[0m         )\n\u001b[1;32m    870\u001b[0m     \u001b[38;5;28;01melse\u001b[39;00m:\n\u001b[1;32m    871\u001b[0m         \u001b[38;5;66;03m# Binary mode\u001b[39;00m\n\u001b[1;32m    872\u001b[0m         handle \u001b[38;5;241m=\u001b[39m \u001b[38;5;28mopen\u001b[39m(handle, ioargs\u001b[38;5;241m.\u001b[39mmode)\n",
      "\u001b[0;31mFileNotFoundError\u001b[0m: [Errno 2] No such file or directory: 'flux_tower_15days.csv'"
     ]
    }
   ],
   "source": [
    "data = pd.read_csv(\"flux_tower_15days.csv\", header = 0, low_memory = False)\n",
    "skiprows = [0, 2, 3],\n",
    "print(data.shape)\n",
    "data['TIMESTAMP'] = pd.to_datetime(data['TIMESTAMP'], format = '%Y-%m-%d %H:%M:%S')\n",
    "print(data.dtypes)\n",
    "data.set_index('TIMESTAMP', inplace = True, drop = False)\n",
    "print(type(data.index))"
   ]
  },
  {
   "cell_type": "code",
   "execution_count": 27,
   "metadata": {},
   "outputs": [],
   "source": [
    "day_mask = (data.index.time >= datetime.strptime('08:30', '%H:%M').time()) & \\\n",
    "           (data.index.time <= datetime.strptime('17:30', '%H:%M').time())\n",
    "\n",
    "night_mask = (data.index.time >= datetime.strptime('21:30', '%H:%M').time()) | \\\n",
    "           (data.index.time <= datetime.strptime('05:30', '%H:%M').time())\n",
    "\n",
    "day_data = data[day_mask]\n",
    "night_data = data[night_mask]"
   ]
  },
  {
   "cell_type": "code",
   "execution_count": 28,
   "metadata": {},
   "outputs": [
    {
     "name": "stdout",
     "output_type": "stream",
     "text": [
      "<class 'pandas.core.indexes.datetimes.DatetimeIndex'>\n"
     ]
    }
   ],
   "source": [
    "def parse_datetime(timestamp):\n",
    "    try:\n",
    "        return pd.to_datetime(timestamp, format = '%Y-%m-%d %H:%M:%S')\n",
    "    except ValueError:\n",
    "        return pd.to_datetime(timestamp, format = '%Y-%m-%d %H:%M:%S.%f')\n",
    "data['TIMESTAMP'] = data['TIMESTAMP'].apply(parse_datetime)\n",
    "print(type(data.index))"
   ]
  },
  {
   "cell_type": "code",
   "execution_count": 29,
   "metadata": {},
   "outputs": [],
   "source": [
    "def plotting(data, title_suffix):\n",
    "    data['10min'] = data.index.floor('10T')\n",
    "\n",
    "    grouped_data_u = data.groupby('10min').mean().rename(columns = {'Ux': 'Ux_avg'})\n",
    "    aligned_avg_data_u = grouped_data_u.reindex(data.index, method = 'ffill')\n",
    "\n",
    "    grouped_data_v = data.groupby('10min').mean().rename(columns = {'Uy': 'Uy_avg'})\n",
    "    aligned_avg_data_v = grouped_data_v.reindex(data.index, method = 'ffill')\n",
    "\n",
    "    grouped_data_w = data.groupby('10min').mean().rename(columns = {'Uz': 'Uz_avg'})\n",
    "    aligned_avg_data_w = grouped_data_w.reindex(data.index, method = 'ffill')\n",
    "\n",
    "    # Calculate Mean Kinetic Energy (MKE)\n",
    "    MKE = 0.5 * (aligned_avg_data_u['Ux_avg']**2 + aligned_avg_data_v['Uy_avg']**2 + aligned_avg_data_w['Uz_avg']**2)\n",
    "\n",
    "    # Calculate fluctuations\n",
    "    fluctuation_u = data['Ux'] - aligned_avg_data_u['Ux_avg']\n",
    "    fluctuation_v = data['Uy'] - aligned_avg_data_v['Uy_avg']\n",
    "    fluctuation_w = data['Uz'] - aligned_avg_data_w['Uz_avg']\n",
    "\n",
    "    # Calculate Turbulent Kinetic Energy (TKE)\n",
    "    TKE = 0.5 * (fluctuation_u**2 + fluctuation_v**2 + fluctuation_w**2)\n",
    "\n",
    "    # Calculate Turbulence Intensity (TKE/MKE)\n",
    "    turbulence_intensity = TKE / MKE\n",
    "\n",
    "    # Plotting\n",
    "    fig_U_mean = px.line(x = data['TIMESTAMP'][:86400], y = aligned_avg_data_u['Ux_avg'][:86400], title = f'U Mean {title_suffix}')\n",
    "    fig_U_mean.show()\n",
    "\n",
    "    fig_U = px.line(x = data['TIMESTAMP'][:86400], y = fluctuation_u[:86400], title = f'U Fluctuation {title_suffix}')\n",
    "    fig_U.show()\n",
    "\n",
    "    fig_V_mean = px.line(x = data['TIMESTAMP'][:86400], y = aligned_avg_data_v['Uy_avg'][:86400], title = f'V Mean {title_suffix}')\n",
    "    fig_V_mean.show()\n",
    "\n",
    "    fig_V = px.line(x = data['TIMESTAMP'][:86400], y = fluctuation_v[:86400], title = f'V Fluctuation {title_suffix}')\n",
    "    fig_V.show()\n",
    "\n",
    "    fig_W_mean = px.line(x = data['TIMESTAMP'][:86400], y = aligned_avg_data_w['Uz_avg'][:86400], title = f'W Mean {title_suffix}')\n",
    "    fig_W_mean.show()\n",
    "\n",
    "    fig_W = px.line(x = data['TIMESTAMP'][:86400], y = fluctuation_w[:86400], title = f'W Fluctuation {title_suffix}')\n",
    "    fig_W.show()\n",
    "\n",
    "    # Plot MKE and TKE\n",
    "    fig_MKE = px.line(x = data['TIMESTAMP'][:86400], y = MKE[:86400], title = f'Mean Kinetic Energy (MKE) {title_suffix}')\n",
    "    fig_MKE.show()\n",
    "\n",
    "    fig_TKE = px.line(x = data['TIMESTAMP'][:86400], y = TKE[:86400], title = f'Turbulent Kinetic Energy (TKE) {title_suffix}')\n",
    "    fig_TKE.show()\n",
    "\n",
    "    # Plot Turbulence Intensity (TKE/MKE)\n",
    "    fig_turbulence_intensity = px.line(x = data['TIMESTAMP'][:86400], y = turbulence_intensity[:86400], title = f'Turbulence Intensity {title_suffix}')\n",
    "    fig_turbulence_intensity.show()\n",
    "\n"
   ]
  },
  {
   "cell_type": "code",
   "execution_count": 30,
   "metadata": {},
   "outputs": [
    {
     "name": "stderr",
     "output_type": "stream",
     "text": [
      "/var/folders/hn/ff472bw55p9dv_cxds0qb_wh0000gn/T/ipykernel_38262/143488777.py:2: SettingWithCopyWarning:\n",
      "\n",
      "\n",
      "A value is trying to be set on a copy of a slice from a DataFrame.\n",
      "Try using .loc[row_indexer,col_indexer] = value instead\n",
      "\n",
      "See the caveats in the documentation: https://pandas.pydata.org/pandas-docs/stable/user_guide/indexing.html#returning-a-view-versus-a-copy\n",
      "\n"
     ]
    },
    {
     "ename": "KeyboardInterrupt",
     "evalue": "",
     "output_type": "error",
     "traceback": [
      "\u001b[0;31m---------------------------------------------------------------------------\u001b[0m",
      "\u001b[0;31mKeyboardInterrupt\u001b[0m                         Traceback (most recent call last)",
      "Cell \u001b[0;32mIn[30], line 2\u001b[0m\n\u001b[1;32m      1\u001b[0m \u001b[38;5;66;03m# Calculate and plot for day data\u001b[39;00m\n\u001b[0;32m----> 2\u001b[0m plotting(day_data, \u001b[38;5;124m'\u001b[39m\u001b[38;5;124mDay\u001b[39m\u001b[38;5;124m'\u001b[39m)\n\u001b[1;32m      4\u001b[0m \u001b[38;5;66;03m# Calculate and plot for night data\u001b[39;00m\n\u001b[1;32m      5\u001b[0m plotting(night_data, \u001b[38;5;124m'\u001b[39m\u001b[38;5;124mNight\u001b[39m\u001b[38;5;124m'\u001b[39m)\n",
      "Cell \u001b[0;32mIn[29], line 55\u001b[0m, in \u001b[0;36mplotting\u001b[0;34m(data, title_suffix)\u001b[0m\n\u001b[1;32m     53\u001b[0m \u001b[38;5;66;03m# Plot Turbulence Intensity (TKE/MKE)\u001b[39;00m\n\u001b[1;32m     54\u001b[0m fig_turbulence_intensity \u001b[38;5;241m=\u001b[39m px\u001b[38;5;241m.\u001b[39mline(x \u001b[38;5;241m=\u001b[39m data[\u001b[38;5;124m'\u001b[39m\u001b[38;5;124mTIMESTAMP\u001b[39m\u001b[38;5;124m'\u001b[39m][:\u001b[38;5;241m86400\u001b[39m], y \u001b[38;5;241m=\u001b[39m turbulence_intensity[:\u001b[38;5;241m86400\u001b[39m], title \u001b[38;5;241m=\u001b[39m \u001b[38;5;124mf\u001b[39m\u001b[38;5;124m'\u001b[39m\u001b[38;5;124mTurbulence Intensity \u001b[39m\u001b[38;5;132;01m{\u001b[39;00mtitle_suffix\u001b[38;5;132;01m}\u001b[39;00m\u001b[38;5;124m'\u001b[39m)\n\u001b[0;32m---> 55\u001b[0m fig_turbulence_intensity\u001b[38;5;241m.\u001b[39mshow()\n",
      "File \u001b[0;32m~/miniconda3/envs/quantds/lib/python3.11/site-packages/plotly/basedatatypes.py:3410\u001b[0m, in \u001b[0;36mBaseFigure.show\u001b[0;34m(self, *args, **kwargs)\u001b[0m\n\u001b[1;32m   3377\u001b[0m \u001b[38;5;250m\u001b[39m\u001b[38;5;124;03m\"\"\"\u001b[39;00m\n\u001b[1;32m   3378\u001b[0m \u001b[38;5;124;03mShow a figure using either the default renderer(s) or the renderer(s)\u001b[39;00m\n\u001b[1;32m   3379\u001b[0m \u001b[38;5;124;03mspecified by the renderer argument\u001b[39;00m\n\u001b[0;32m   (...)\u001b[0m\n\u001b[1;32m   3406\u001b[0m \u001b[38;5;124;03mNone\u001b[39;00m\n\u001b[1;32m   3407\u001b[0m \u001b[38;5;124;03m\"\"\"\u001b[39;00m\n\u001b[1;32m   3408\u001b[0m \u001b[38;5;28;01mimport\u001b[39;00m \u001b[38;5;21;01mplotly\u001b[39;00m\u001b[38;5;21;01m.\u001b[39;00m\u001b[38;5;21;01mio\u001b[39;00m \u001b[38;5;28;01mas\u001b[39;00m \u001b[38;5;21;01mpio\u001b[39;00m\n\u001b[0;32m-> 3410\u001b[0m \u001b[38;5;28;01mreturn\u001b[39;00m pio\u001b[38;5;241m.\u001b[39mshow(\u001b[38;5;28mself\u001b[39m, \u001b[38;5;241m*\u001b[39margs, \u001b[38;5;241m*\u001b[39m\u001b[38;5;241m*\u001b[39mkwargs)\n",
      "File \u001b[0;32m~/miniconda3/envs/quantds/lib/python3.11/site-packages/plotly/io/_renderers.py:401\u001b[0m, in \u001b[0;36mshow\u001b[0;34m(fig, renderer, validate, **kwargs)\u001b[0m\n\u001b[1;32m    398\u001b[0m     ipython_display\u001b[38;5;241m.\u001b[39mdisplay(bundle, raw\u001b[38;5;241m=\u001b[39m\u001b[38;5;28;01mTrue\u001b[39;00m)\n\u001b[1;32m    400\u001b[0m \u001b[38;5;66;03m# external renderers\u001b[39;00m\n\u001b[0;32m--> 401\u001b[0m renderers\u001b[38;5;241m.\u001b[39m_perform_external_rendering(fig_dict, renderers_string\u001b[38;5;241m=\u001b[39mrenderer, \u001b[38;5;241m*\u001b[39m\u001b[38;5;241m*\u001b[39mkwargs)\n",
      "File \u001b[0;32m~/miniconda3/envs/quantds/lib/python3.11/site-packages/plotly/io/_renderers.py:338\u001b[0m, in \u001b[0;36mRenderersConfig._perform_external_rendering\u001b[0;34m(self, fig_dict, renderers_string, **kwargs)\u001b[0m\n\u001b[1;32m    335\u001b[0m     \u001b[38;5;28;01mif\u001b[39;00m \u001b[38;5;28mhasattr\u001b[39m(renderer, k):\n\u001b[1;32m    336\u001b[0m         \u001b[38;5;28msetattr\u001b[39m(renderer, k, v)\n\u001b[0;32m--> 338\u001b[0m renderer\u001b[38;5;241m.\u001b[39mrender(fig_dict)\n",
      "File \u001b[0;32m~/miniconda3/envs/quantds/lib/python3.11/site-packages/plotly/io/_base_renderers.py:760\u001b[0m, in \u001b[0;36mBrowserRenderer.render\u001b[0;34m(self, fig_dict)\u001b[0m\n\u001b[1;32m    745\u001b[0m \u001b[38;5;28;01mfrom\u001b[39;00m \u001b[38;5;21;01mplotly\u001b[39;00m\u001b[38;5;21;01m.\u001b[39;00m\u001b[38;5;21;01mio\u001b[39;00m \u001b[38;5;28;01mimport\u001b[39;00m to_html\n\u001b[1;32m    747\u001b[0m html \u001b[38;5;241m=\u001b[39m to_html(\n\u001b[1;32m    748\u001b[0m     fig_dict,\n\u001b[1;32m    749\u001b[0m     config\u001b[38;5;241m=\u001b[39m\u001b[38;5;28mself\u001b[39m\u001b[38;5;241m.\u001b[39mconfig,\n\u001b[0;32m   (...)\u001b[0m\n\u001b[1;32m    758\u001b[0m     validate\u001b[38;5;241m=\u001b[39m\u001b[38;5;28;01mFalse\u001b[39;00m,\n\u001b[1;32m    759\u001b[0m )\n\u001b[0;32m--> 760\u001b[0m open_html_in_browser(html, \u001b[38;5;28mself\u001b[39m\u001b[38;5;241m.\u001b[39musing, \u001b[38;5;28mself\u001b[39m\u001b[38;5;241m.\u001b[39mnew, \u001b[38;5;28mself\u001b[39m\u001b[38;5;241m.\u001b[39mautoraise)\n",
      "File \u001b[0;32m~/miniconda3/envs/quantds/lib/python3.11/site-packages/plotly/io/_base_renderers.py:709\u001b[0m, in \u001b[0;36mopen_html_in_browser\u001b[0;34m(html, using, new, autoraise)\u001b[0m\n\u001b[1;32m    704\u001b[0m server \u001b[38;5;241m=\u001b[39m HTTPServer((\u001b[38;5;124m\"\u001b[39m\u001b[38;5;124m127.0.0.1\u001b[39m\u001b[38;5;124m\"\u001b[39m, \u001b[38;5;241m0\u001b[39m), OneShotRequestHandler)\n\u001b[1;32m    705\u001b[0m browser\u001b[38;5;241m.\u001b[39mopen(\n\u001b[1;32m    706\u001b[0m     \u001b[38;5;124m\"\u001b[39m\u001b[38;5;124mhttp://127.0.0.1:\u001b[39m\u001b[38;5;132;01m%s\u001b[39;00m\u001b[38;5;124m\"\u001b[39m \u001b[38;5;241m%\u001b[39m server\u001b[38;5;241m.\u001b[39mserver_port, new\u001b[38;5;241m=\u001b[39mnew, autoraise\u001b[38;5;241m=\u001b[39mautoraise\n\u001b[1;32m    707\u001b[0m )\n\u001b[0;32m--> 709\u001b[0m server\u001b[38;5;241m.\u001b[39mhandle_request()\n",
      "File \u001b[0;32m~/miniconda3/envs/quantds/lib/python3.11/socketserver.py:295\u001b[0m, in \u001b[0;36mBaseServer.handle_request\u001b[0;34m(self)\u001b[0m\n\u001b[1;32m    292\u001b[0m selector\u001b[38;5;241m.\u001b[39mregister(\u001b[38;5;28mself\u001b[39m, selectors\u001b[38;5;241m.\u001b[39mEVENT_READ)\n\u001b[1;32m    294\u001b[0m \u001b[38;5;28;01mwhile\u001b[39;00m \u001b[38;5;28;01mTrue\u001b[39;00m:\n\u001b[0;32m--> 295\u001b[0m     ready \u001b[38;5;241m=\u001b[39m selector\u001b[38;5;241m.\u001b[39mselect(timeout)\n\u001b[1;32m    296\u001b[0m     \u001b[38;5;28;01mif\u001b[39;00m ready:\n\u001b[1;32m    297\u001b[0m         \u001b[38;5;28;01mreturn\u001b[39;00m \u001b[38;5;28mself\u001b[39m\u001b[38;5;241m.\u001b[39m_handle_request_noblock()\n",
      "File \u001b[0;32m~/miniconda3/envs/quantds/lib/python3.11/selectors.py:415\u001b[0m, in \u001b[0;36m_PollLikeSelector.select\u001b[0;34m(self, timeout)\u001b[0m\n\u001b[1;32m    413\u001b[0m ready \u001b[38;5;241m=\u001b[39m []\n\u001b[1;32m    414\u001b[0m \u001b[38;5;28;01mtry\u001b[39;00m:\n\u001b[0;32m--> 415\u001b[0m     fd_event_list \u001b[38;5;241m=\u001b[39m \u001b[38;5;28mself\u001b[39m\u001b[38;5;241m.\u001b[39m_selector\u001b[38;5;241m.\u001b[39mpoll(timeout)\n\u001b[1;32m    416\u001b[0m \u001b[38;5;28;01mexcept\u001b[39;00m \u001b[38;5;167;01mInterruptedError\u001b[39;00m:\n\u001b[1;32m    417\u001b[0m     \u001b[38;5;28;01mreturn\u001b[39;00m ready\n",
      "\u001b[0;31mKeyboardInterrupt\u001b[0m: "
     ]
    }
   ],
   "source": [
    "# Calculate and plot for day data\n",
    "plotting(day_data, 'Day')\n",
    "\n",
    "# Calculate and plot for night data\n",
    "plotting(night_data, 'Night')"
   ]
  },
  {
   "cell_type": "code",
   "execution_count": null,
   "metadata": {},
   "outputs": [],
   "source": [
    "# data['10min'] = data.index.floor('10T')\n",
    "\n",
    "# grouped_data_u = data.groupby('10min').mean().rename(columns = {'Ux': 'Ux_avg'})\n",
    "# aligned_avg_data_u = grouped_data_u.reindex(data.index, method = 'ffill')\n",
    "\n",
    "# fig_U_mean = px.line(x=data['TIMESTAMP'][:86400],y=aligned_avg_data_u['Ux_avg'][:86400])\n",
    "# fig_U_mean.show()\n",
    "\n",
    "# fluctuation_u = data['Ux'] - aligned_avg_data_u['Ux_avg']\n",
    "# fig_U = px.line(x=data['TIMESTAMP'][:86400],y=fluctuation_u[:86400])\n",
    "# fig_U.show()\n",
    "\n",
    "# grouped_data_v = data.groupby('10min').mean().rename(columns = {'Uy': 'Uy_avg'})\n",
    "# aligned_avg_data_v = grouped_data_v.reindex(data.index, method = 'ffill')\n",
    "\n",
    "# fig_V_mean = px.line(x=data['TIMESTAMP'][:86400],y=aligned_avg_data_v['Uy_avg'][:86400])\n",
    "# fig_V_mean.show()\n",
    "\n",
    "# fluctuation_v = data['Uy'] - aligned_avg_data_v['Uy_avg']\n",
    "# fig_V = px.line(x=data['TIMESTAMP'][:86400],y=fluctuation_v[:86400])\n",
    "# fig_V.show()\n",
    "\n",
    "# grouped_data_w = data.groupby('10min').mean().rename(columns = {'Uz': 'Uz_avg'})\n",
    "# aligned_avg_data_w = grouped_data_w.reindex(data.index, method = 'ffill')\n",
    "# fig_W_mean = px.line(x=data['TIMESTAMP'][:86400],y=aligned_avg_data_w['Uz_avg'][:86400])\n",
    "# fig_W_mean.show()\n",
    "\n",
    "# fluctuation_w = data['Uz'] - aligned_avg_data_w['Uz_avg']\n",
    "# fig_W = px.line(x=data['TIMESTAMP'][:86400],y=fluctuation_w[:86400])\n",
    "# fig_W.show()"
   ]
  },
  {
   "cell_type": "code",
   "execution_count": null,
   "metadata": {},
   "outputs": [],
   "source": []
  }
 ],
 "metadata": {
  "kernelspec": {
   "display_name": "quantds",
   "language": "python",
   "name": "python3"
  },
  "language_info": {
   "codemirror_mode": {
    "name": "ipython",
    "version": 3
   },
   "file_extension": ".py",
   "mimetype": "text/x-python",
   "name": "python",
   "nbconvert_exporter": "python",
   "pygments_lexer": "ipython3",
   "version": "3.11.7"
  }
 },
 "nbformat": 4,
 "nbformat_minor": 2
}
